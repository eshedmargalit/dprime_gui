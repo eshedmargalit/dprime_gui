{
 "cells": [
  {
   "cell_type": "code",
   "execution_count": 1,
   "metadata": {},
   "outputs": [
    {
     "data": {
      "application/vnd.jupyter.widget-view+json": {
       "model_id": "0da7a56a20da48c189a887d35eb4d66d",
       "version_major": 2,
       "version_minor": 0
      },
      "text/plain": [
       "Button(description=u'Click Here To Start!', style=ButtonStyle())"
      ]
     },
     "metadata": {},
     "output_type": "display_data"
    },
    {
     "data": {
      "application/javascript": [
       "IPython.notebook.execute_cell_range(IPython.notebook.get_selected_index()+1, IPython.notebook.ncells())"
      ],
      "text/plain": [
       "<IPython.core.display.Javascript object>"
      ]
     },
     "metadata": {},
     "output_type": "display_data"
    }
   ],
   "source": [
    "from IPython.display import Javascript, display\n",
    "from ipywidgets import widgets\n",
    "\n",
    "def run_all(ev):\n",
    "    display(Javascript('IPython.notebook.execute_cell_range(IPython.notebook.get_selected_index()+1, IPython.notebook.ncells())'))\n",
    "\n",
    "button = widgets.Button(description=\"Click Here To Start!\")\n",
    "button.on_click(run_all)\n",
    "display(button)"
   ]
  },
  {
   "cell_type": "code",
   "execution_count": 17,
   "metadata": {},
   "outputs": [],
   "source": [
    "import ipywidgets as widgets\n",
    "from IPython.display import display\n",
    "from ipywidgets import HBox, VBox, Label, FloatText, Layout"
   ]
  },
  {
   "cell_type": "code",
   "execution_count": 18,
   "metadata": {},
   "outputs": [],
   "source": [
    "sig_present = widgets.FloatSlider(\n",
    "    value=7,\n",
    "    min=0,\n",
    "    max=15,\n",
    "    step=0.5,\n",
    "    description='',\n",
    "    disabled=False,\n",
    "    continuous_update=False,\n",
    "    orientation='horizontal',\n",
    "    readout=True,\n",
    "    readout_format='.2f',\n",
    "    layout={'width':'200px'}\n",
    ")\n",
    "\n",
    "sig_absent = widgets.FloatSlider(\n",
    "    value=4,\n",
    "    min=0,\n",
    "    max=15,\n",
    "    step=0.5,\n",
    "    description='',\n",
    "    disabled=False,\n",
    "    continuous_update=False,\n",
    "    orientation='horizontal',\n",
    "    readout=True,\n",
    "    readout_format='.2f',\n",
    "    layout={'width':'200px'}\n",
    ")\n",
    "\n",
    "std = widgets.FloatSlider(\n",
    "    value=2,\n",
    "    min=0.5,\n",
    "    max=5,\n",
    "    step=0.5,\n",
    "    description='',\n",
    "    disabled=False,\n",
    "    continuous_update=False,\n",
    "    orientation='horizontal',\n",
    "    readout=True,\n",
    "    readout_format='.2f',\n",
    "    layout={'width':'200px'}\n",
    ")\n",
    "\n",
    "crit = widgets.FloatSlider(\n",
    "    value=5,\n",
    "    min=0,\n",
    "    max=15,\n",
    "    step=0.5,\n",
    "    description='',\n",
    "    disabled=False,\n",
    "    continuous_update=False,\n",
    "    orientation='horizontal',\n",
    "    readout=True,\n",
    "    readout_format='.2f',\n",
    "    layout={'width':'200px'}\n",
    ")"
   ]
  },
  {
   "cell_type": "code",
   "execution_count": 19,
   "metadata": {},
   "outputs": [],
   "source": [
    "sig_present_label = Label('Signal Present', layout={'width':'200px'})\n",
    "sig_absent_label = Label('Signal Absent', layout={'width':'200px'})\n",
    "std_label = Label('Standard Deviation', layout={'width':'200px'})\n",
    "crit_label = Label('Criterion', layout={'width':'200px'})"
   ]
  },
  {
   "cell_type": "code",
   "execution_count": 20,
   "metadata": {},
   "outputs": [],
   "source": [
    "hit_rate = widgets.FloatText(\n",
    "    value=0.0,\n",
    "    disabled=True,\n",
    "    color='black',\n",
    "    layout={'width': '100px'},\n",
    ")\n",
    "\n",
    "miss_rate = widgets.FloatText(\n",
    "    value=0.0,\n",
    "    disabled=True,\n",
    "    layout={'width': '100px'},\n",
    ")\n",
    "\n",
    "fp_rate = widgets.FloatText(\n",
    "    value=0.0,\n",
    "    disabled=True,\n",
    "    layout={'width': '100px'},\n",
    ")\n",
    "\n",
    "cr_rate = widgets.FloatText(\n",
    "    value=0.0,\n",
    "    disabled=True,\n",
    "    layout={'width': '100px', 'justify-content': 'flex-end'},\n",
    ")\n",
    "\n",
    "dprime = widgets.FloatText(\n",
    "    value=0.0,\n",
    "    disabled=True,\n",
    "    layout={'width': '100px'},\n",
    ")"
   ]
  },
  {
   "cell_type": "code",
   "execution_count": 21,
   "metadata": {},
   "outputs": [],
   "source": [
    "hit_rate_label = Label('Hits', layout={'width': '200px'})\n",
    "miss_rate_label = Label('Misses', layout={'width': '200px'})\n",
    "fp_rate_label = Label('False Positives', layout={'width': '200px'})\n",
    "cr_rate_label = Label('Correct Rejections', layout={'width': '200px'})\n",
    "dp_label = Label('d\\'')"
   ]
  },
  {
   "cell_type": "code",
   "execution_count": 22,
   "metadata": {},
   "outputs": [],
   "source": [
    "hit_rate_label.add_class('hrl')\n",
    "fp_rate_label.add_class('fprl');"
   ]
  },
  {
   "cell_type": "code",
   "execution_count": 23,
   "metadata": {},
   "outputs": [],
   "source": [
    "hit_rate.add_class('disabled-font')\n",
    "miss_rate.add_class('disabled-font')\n",
    "fp_rate.add_class('disabled-font')\n",
    "cr_rate.add_class('disabled-font')\n",
    "dprime.add_class('disabled-font');"
   ]
  },
  {
   "cell_type": "code",
   "execution_count": 24,
   "metadata": {},
   "outputs": [],
   "source": [
    "rates_layout = widgets.Layout(width='100%',\n",
    "                              grid_template_rows='auto auto',\n",
    "                              grid_template_columns='20% 30% 20% 30%')\n",
    "\n",
    "rate_widget = widgets.GridBox(children = [hit_rate_label, hit_rate,\n",
    "                              fp_rate_label, fp_rate,\n",
    "                              miss_rate_label, miss_rate,\n",
    "                              cr_rate_label, cr_rate],\n",
    "                              layout=rates_layout)\n",
    "\n",
    "slider_layout = widgets.Layout(width='100%',\n",
    "                              grid_template_rows='auto auto',\n",
    "                              grid_template_columns='20% 30% 20% 30%')\n",
    "\n",
    "slider_widget = widgets.GridBox(children=[sig_absent_label, sig_absent,\n",
    "                                          sig_present_label, sig_present,\n",
    "                                          std_label, std,\n",
    "                                          crit_label, crit],\n",
    "                               layout=slider_layout)"
   ]
  },
  {
   "cell_type": "code",
   "execution_count": 25,
   "metadata": {},
   "outputs": [],
   "source": [
    "%matplotlib inline\n",
    "from ipywidgets import interact, interactive, fixed, interactive_output\n",
    "import numpy as np\n",
    "import matplotlib.pyplot as plt"
   ]
  },
  {
   "cell_type": "code",
   "execution_count": 26,
   "metadata": {},
   "outputs": [],
   "source": [
    "import matplotlib as mpl\n",
    "from scipy.stats import norm\n",
    "\n",
    "mpl.rcParams.update({'font.size': 22})\n",
    "\n",
    "def gaussian(x, mu, sig):\n",
    "    unnormed = np.exp(-np.power(x - mu, 2.) / (2 * np.power(sig, 2.)))\n",
    "    scaling = np.sqrt(2*np.pi)*sig\n",
    "    return unnormed / scaling  \n",
    "\n",
    "def two_curve_slider(mean_signal_present, mean_signal_absent, standard_deviation, criterion):    \n",
    "    fig, ax = plt.subplots(figsize=(18,5))\n",
    "\n",
    "    minval = 0\n",
    "    maxval = 15\n",
    "    \n",
    "    xs = np.linspace(minval, maxval, 1000)\n",
    "    curve_1 = gaussian(xs, mean_signal_present, standard_deviation)\n",
    "    curve_2 = gaussian(xs, mean_signal_absent, standard_deviation)\n",
    "    \n",
    "    idx = np.argmin(np.abs(xs - criterion))\n",
    "    \n",
    "    \n",
    "    truncated_curve_1 = curve_1[idx:]\n",
    "    truncated_curve_2 = curve_2[idx:]\n",
    "    \n",
    "    truncated_xs = np.linspace(criterion, maxval, truncated_curve_1.shape[0])\n",
    "    \n",
    "    plt.fill_between(truncated_xs, truncated_curve_2, color='red', alpha=0.4);\n",
    "    plt.fill_between(truncated_xs, truncated_curve_1, color='green', alpha=0.4);\n",
    "    \n",
    "    mr = norm.cdf(criterion, loc=mean_signal_present, scale=standard_deviation)\n",
    "    cr = norm.cdf(criterion, loc=mean_signal_absent, scale=standard_deviation)\n",
    "    dp = (mean_signal_present - mean_signal_absent)/float(standard_deviation)\n",
    "    \n",
    "    hit_rate.value = '%.2f' % (1-mr)\n",
    "    miss_rate.value = '%.2f' % mr\n",
    "    cr_rate.value = '%.2f' % cr\n",
    "    fp_rate.value = '%.2f' % (1-cr)\n",
    "    dprime.value = '%.2f' % dp\n",
    "\n",
    "    plt.axvline(criterion, c='blue', linewidth=3, linestyle='dashed');\n",
    "    plt.axvline(mean_signal_present, c='green', alpha=0.2)\n",
    "    plt.axvline(mean_signal_absent, c='red', alpha=0.2)\n",
    "    plt.plot(xs, curve_1, color='k', linewidth=4);\n",
    "    plt.plot(xs, curve_2, color='k', linewidth=4);\n",
    "    plt.xlim((minval, maxval))\n",
    "    plt.xticks(np.linspace(minval, maxval, 5), np.linspace(minval, maxval, 5))\n",
    "\n",
    "    ylims = plt.ylim()\n",
    "    plt.ylim([0, ylims[1]])\n",
    "    ax.spines['top'].set_visible(False)\n",
    "    ax.spines['right'].set_visible(False)\n",
    "    \n",
    "    plt.ylabel(r'$P(x)$')\n",
    "    plt.xlabel(r'$x$')\n",
    "    plt.title('Normal Distributions')"
   ]
  },
  {
   "cell_type": "code",
   "execution_count": 27,
   "metadata": {},
   "outputs": [],
   "source": [
    "## ROC Widget\n",
    "import matplotlib.patches as patches\n",
    "def plot_ROC(mean2, mean1, sigma, crit):\n",
    "    fig, ax = plt.subplots(figsize=(8,8))\n",
    "    \n",
    "    crits = np.linspace(mean1 - mean1 * 3, mean2 + mean2 * 3, 100)\n",
    "    hits = 1 - norm.cdf(crits,\n",
    "                       loc=mean2,\n",
    "                       scale=sigma)\n",
    "    fps = 1 - norm.cdf(crits,\n",
    "                       loc=mean1,\n",
    "                       scale=sigma)\n",
    "    \n",
    "    plt.plot(fps, hits, color='k', linewidth=4)\n",
    "    plt.plot(hits,hits, color='k', alpha=0.2)\n",
    "    \n",
    "    nearest = np.argmin(np.abs(crit-crits))\n",
    "    plt.plot(fps[nearest], hits[nearest], 'o', markersize=16, color='blue')\n",
    "    plt.xticks(np.linspace(0,1,5))\n",
    "    plt.yticks(np.linspace(0,1,5))\n",
    "    \n",
    "    bar_offset = 0.07\n",
    "    \n",
    "#    plt.axvline(fps[nearest], linestyle='dashed', alpha=0.5, color='red')\n",
    "#    plt.axhline(hits[nearest], linestyle='dashed', alpha=0.5, color='green')\n",
    "\n",
    "    plt.plot([fps[nearest], fps[nearest]],\n",
    "             [-bar_offset, hits[nearest]],\n",
    "             linestyle='dashed', alpha=0.5, color='red')\n",
    "    \n",
    "    plt.plot([-bar_offset, fps[nearest]],\n",
    "             [hits[nearest], hits[nearest]],\n",
    "             linestyle='dashed', alpha=0.5, color='green')\n",
    "    \n",
    "    red_rect = patches.Rectangle((0,-0.1),fps[nearest],bar_offset,facecolor='r')\n",
    "    green_rect = patches.Rectangle((-0.1,0),bar_offset,hits[nearest],facecolor='g')\n",
    "    \n",
    "    ax.add_patch(red_rect)\n",
    "    ax.add_patch(green_rect)\n",
    "    plt.title('ROC Curve')\n",
    "    plt.xlabel('False Positives')\n",
    "    plt.ylabel('Hits')\n",
    "    plt.ylim((-bar_offset, 1.02))\n",
    "    plt.xlim((-bar_offset, 1.02))\n",
    "    \n",
    "roc_widget = interactive_output(plot_ROC, \n",
    "         {'mean2':sig_present,\n",
    "          'mean1':sig_absent,\n",
    "          'sigma':std,\n",
    "          'crit':crit})\n"
   ]
  },
  {
   "cell_type": "code",
   "execution_count": 28,
   "metadata": {},
   "outputs": [],
   "source": [
    "box_layout = Layout(display='flex',\n",
    "                    flex_flow='column',\n",
    "                    align_items='center',\n",
    "                    width='50%')"
   ]
  },
  {
   "cell_type": "code",
   "execution_count": 29,
   "metadata": {},
   "outputs": [
    {
     "data": {
      "application/vnd.jupyter.widget-view+json": {
       "model_id": "0dc45cc2579b4b70ae84f0d2b7b41fa0",
       "version_major": 2,
       "version_minor": 0
      },
      "text/plain": [
       "HBox(children=(VBox(children=(Output(), GridBox(children=(Label(value=u'Signal Absent', layout=Layout(width=u'…"
      ]
     },
     "metadata": {},
     "output_type": "display_data"
    }
   ],
   "source": [
    "plot = interactive_output(two_curve_slider, \n",
    "         {'mean_signal_present':sig_present,\n",
    "          'mean_signal_absent':sig_absent,\n",
    "          'standard_deviation':std,\n",
    "          'criterion':crit})\n",
    "\n",
    "sliders_and_plot = VBox([plot, slider_widget, rate_widget])\n",
    "\n",
    "roc_and_dprime = VBox([roc_widget, HBox([dp_label, dprime])], layout=box_layout)\n",
    "\n",
    "plot_and_roc = HBox([sliders_and_plot, roc_and_dprime])\n",
    "display(plot_and_roc)"
   ]
  },
  {
   "cell_type": "code",
   "execution_count": 30,
   "metadata": {},
   "outputs": [
    {
     "data": {
      "text/html": [
       "<style>\n",
       ".hrl {\n",
       "    font-weight: bold;\n",
       "    color: green;\n",
       "}\n",
       ".fprl {\n",
       "    font-weight: bold;\n",
       "    color: red;\n",
       "}\n",
       ".disabled-font input[type=\"number\"]:disabled {\n",
       "    opacity: 1;\n",
       "    font-weight: bold;\n",
       "}\n",
       "</style>"
      ],
      "text/plain": [
       "<IPython.core.display.HTML object>"
      ]
     },
     "metadata": {},
     "output_type": "display_data"
    }
   ],
   "source": [
    "%%html\n",
    "<style>\n",
    ".hrl {\n",
    "    font-weight: bold;\n",
    "    color: green;\n",
    "}\n",
    ".fprl {\n",
    "    font-weight: bold;\n",
    "    color: red;\n",
    "}\n",
    ".disabled-font input[type=\"number\"]:disabled {\n",
    "    opacity: 1;\n",
    "    font-weight: bold;\n",
    "}\n",
    "</style>"
   ]
  },
  {
   "cell_type": "code",
   "execution_count": 31,
   "metadata": {},
   "outputs": [
    {
     "data": {
      "text/html": [
       "<script>\n",
       "code_show=true; \n",
       "function code_toggle() {\n",
       " if (code_show){\n",
       " $('div.input').hide();\n",
       " } else {\n",
       " $('div.input').show();\n",
       " }\n",
       " code_show = !code_show\n",
       "} \n",
       "$( document ).ready(code_toggle);\n",
       "</script>\n",
       "<a href=\"javascript:code_toggle()\">Code Visibility Toggle</a>"
      ],
      "text/plain": [
       "<IPython.core.display.HTML object>"
      ]
     },
     "execution_count": 31,
     "metadata": {},
     "output_type": "execute_result"
    }
   ],
   "source": [
    "from IPython.display import HTML\n",
    "HTML('''<script>\n",
    "code_show=true; \n",
    "function code_toggle() {\n",
    " if (code_show){\n",
    " $('div.input').hide();\n",
    " } else {\n",
    " $('div.input').show();\n",
    " }\n",
    " code_show = !code_show\n",
    "} \n",
    "$( document ).ready(code_toggle);\n",
    "</script>\n",
    "<a href=\"javascript:code_toggle()\">Code Visibility Toggle</a>''')"
   ]
  },
  {
   "cell_type": "code",
   "execution_count": null,
   "metadata": {},
   "outputs": [],
   "source": []
  }
 ],
 "metadata": {
  "kernelspec": {
   "display_name": "Python 2",
   "language": "python",
   "name": "python2"
  },
  "language_info": {
   "codemirror_mode": {
    "name": "ipython",
    "version": 2
   },
   "file_extension": ".py",
   "mimetype": "text/x-python",
   "name": "python",
   "nbconvert_exporter": "python",
   "pygments_lexer": "ipython2",
   "version": "2.7.13"
  }
 },
 "nbformat": 4,
 "nbformat_minor": 2
}
